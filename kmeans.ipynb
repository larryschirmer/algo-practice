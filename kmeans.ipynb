{
 "cells": [
  {
   "cell_type": "code",
   "execution_count": 1,
   "metadata": {},
   "outputs": [],
   "source": [
    "import numpy as np\n",
    "import matplotlib.pyplot as plt"
   ]
  },
  {
   "cell_type": "code",
   "execution_count": 2,
   "metadata": {},
   "outputs": [],
   "source": [
    "np.random.seed(42)\n",
    "%matplotlib inline"
   ]
  },
  {
   "cell_type": "code",
   "execution_count": 13,
   "metadata": {},
   "outputs": [],
   "source": [
    "class KMeans:\n",
    "    def __init__(self, k=5, max_iter=100, plot_steps=False):\n",
    "        self.k = k\n",
    "        self.max_iter = max_iter\n",
    "        self.plot_steps = plot_steps\n",
    "        # list of sample indices for each cluster\n",
    "        self.clusters = [[] for _ in range(k)]\n",
    "        # mean feature vectors for each cluster\n",
    "        self.centroids = []\n",
    "\n",
    "    def _euclidean_distance(self, x, y):\n",
    "        return np.sqrt(np.sum((x - y) ** 2))\n",
    " \n",
    "    def _closest_centroid(self, sample, centroids):\n",
    "        distances = [self._euclidean_distance(sample, c) for c in centroids]\n",
    "        closest_centroid = np.argmin(distances)\n",
    "        return closest_centroid\n",
    "\n",
    "    def _create_clusters(self, centroids):\n",
    "        clusters = [[] for _ in range(self.k)]\n",
    "        for idx, sample in enumerate(self.x):\n",
    "            closest_centroid = self._closest_centroid(sample, centroids)\n",
    "            clusters[closest_centroid].append(idx)\n",
    "        return clusters\n",
    "    \n",
    "    def _update_centroids(self):\n",
    "        centroids = np.zeros((self.k, self.num_feature))\n",
    "        for i, cluster in enumerate(self.clusters):\n",
    "            if len(cluster) == 0:\n",
    "                continue\n",
    "            cluster_mean = np.mean(self.x[cluster], axis=0)\n",
    "            centroids[i] = cluster_mean\n",
    "\n",
    "        return centroids\n",
    "    \n",
    "    def _has_converged(self, prev_centroids):\n",
    "        total_changes = [self._euclidean_distance(self.centroids[idx], prev_centroids[idx]) for idx in range(self.k)]\n",
    "        total_change = np.sum(total_changes) < 1e-6\n",
    "        return total_change\n",
    "\n",
    "    def _centroid_distance(self):\n",
    "        for clusterIdx, cluster in enumerate(self.clusters):\n",
    "            distances = []\n",
    "            if len(cluster) == 0:\n",
    "                continue\n",
    "            for pointIdx in cluster:\n",
    "                distances.append(self._euclidean_distance(self.centroids[clusterIdx], self.x[pointIdx]))\n",
    "\n",
    "        return np.sum(distances)\n",
    "\n",
    "    def predict(self, X):\n",
    "        self.x = X\n",
    "        self.num_sample, self.num_feature = X.shape\n",
    "\n",
    "        # initialize centroids\n",
    "        # get k random samples from a list 0 to num_sample\n",
    "        random_sample_idxs = np.random.choice(\n",
    "            self.num_sample, self.k, replace=False)\n",
    "        self.centroids = [X[idx] for idx in random_sample_idxs]\n",
    "\n",
    "        # optimize centroids\n",
    "        for _ in range(self.max_iter):\n",
    "            # update clusters\n",
    "            self.clusters = self._create_clusters(self.centroids)\n",
    "\n",
    "            # update centroids\n",
    "            prev_centroids = self.centroids\n",
    "            self.centroids = self._update_centroids()\n",
    "            if self.plot_steps:\n",
    "                self.plot()\n",
    "\n",
    "            # check convergence\n",
    "            if self._has_converged(prev_centroids):\n",
    "                break\n",
    "\n",
    "        # return cluster labels\n",
    "        return self._centroid_distance()\n",
    "    \n",
    "    def plot(self):\n",
    "        fig, ax = plt.subplots(figsize=(12, 8))\n",
    "\n",
    "        for clusterIdx, pointIdx in enumerate(self.clusters):\n",
    "            point = self.x[pointIdx].T\n",
    "            ax.scatter(*point)\n",
    "\n",
    "        for centroid in self.centroids:\n",
    "            ax.scatter(*centroid, c='black', marker='x', linewidths=2)\n",
    "\n",
    "        plt.show()\n",
    "\n"
   ]
  },
  {
   "cell_type": "code",
   "execution_count": 22,
   "metadata": {},
   "outputs": [
    {
     "name": "stdout",
     "output_type": "stream",
     "text": [
      "[22.126942800463553, 5.23606797749979, 5.23606797749979, 3.9436506316151, 1.4142135623730951, 0.0, 0.0]\n"
     ]
    }
   ],
   "source": [
    "total_distances = []\n",
    "\n",
    "# Elbow method\n",
    "for k in range(1, 8):\n",
    "    kmeans = KMeans(k=k, max_iter=100, plot_steps=False)\n",
    "    dataset = np.array([\n",
    "        [1, 2],\n",
    "        [2, 3],\n",
    "        [3, 1],\n",
    "        [4, 2],\n",
    "        [5, 4],\n",
    "        [6, 5],\n",
    "        [7, 6],\n",
    "        [8, 7],\n",
    "    ])\n",
    "\n",
    "    total_distance = kmeans.predict(dataset)\n",
    "    total_distances.append(total_distance)\n",
    "\n",
    "print(total_distances)"
   ]
  },
  {
   "cell_type": "code",
   "execution_count": null,
   "metadata": {},
   "outputs": [],
   "source": []
  }
 ],
 "metadata": {
  "interpreter": {
   "hash": "949777d72b0d2535278d3dc13498b2535136f6dfe0678499012e853ee9abcab1"
  },
  "kernelspec": {
   "display_name": "Python 3.9.7 64-bit",
   "language": "python",
   "name": "python3"
  },
  "language_info": {
   "codemirror_mode": {
    "name": "ipython",
    "version": 3
   },
   "file_extension": ".py",
   "mimetype": "text/x-python",
   "name": "python",
   "nbconvert_exporter": "python",
   "pygments_lexer": "ipython3",
   "version": "3.9.7"
  },
  "orig_nbformat": 4
 },
 "nbformat": 4,
 "nbformat_minor": 2
}
